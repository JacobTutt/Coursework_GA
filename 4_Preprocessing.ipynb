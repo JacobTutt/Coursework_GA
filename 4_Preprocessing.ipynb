{
 "cells": [
  {
   "cell_type": "markdown",
   "metadata": {},
   "source": [
    "# Preproccessing \n",
    "- This notebook preforms the following tasks\n",
    "- Extinction correction (de-reddening)\n",
    "- Red Giant Branch Filtering "
   ]
  },
  {
   "cell_type": "code",
   "execution_count": null,
   "metadata": {},
   "outputs": [],
   "source": [
    "from Analysis import reddening_correction\n",
    "from Analysis import rgb_filter\n",
    "from Analysis import add_galpy_orbital_parameters"
   ]
  },
  {
   "cell_type": "markdown",
   "metadata": {
    "vscode": {
     "languageId": "plaintext"
    }
   },
   "source": [
    "## Extinction Correction\n",
    "\n",
    "- Applies Galactic extinction corrections to Gaia DR3 photometry using the Schlegel, Finkbeiner & Davis (1998) (SFD) dust map and extinction coefficients from Casagrande et al. (2021)."
   ]
  },
  {
   "cell_type": "code",
   "execution_count": 4,
   "metadata": {},
   "outputs": [],
   "source": [
    "raw_data_path_glob_clust = 'data/Allsky_Gaia_45599440.fits'\n",
    "raw_data_path_stream = 'data/Allsky_Gaia_8910601_rv.fits'"
   ]
  },
  {
   "cell_type": "code",
   "execution_count": 3,
   "metadata": {},
   "outputs": [
    {
     "name": "stderr",
     "output_type": "stream",
     "text": [
      "2025-03-17 20:54:51,090 - INFO - Converting to a Pandas Dataframe...\n",
      "2025-03-17 21:00:38,348 - INFO - Applying extinction correction...\n",
      "2025-03-17 21:00:54,451 - INFO - Converting back to FITS format...\n",
      "2025-03-17 21:02:45,115 - INFO - Saving to new file...\n"
     ]
    },
    {
     "ename": "OSError",
     "evalue": "Not enough space on disk: requested 6201523840, available 2304471040. Not enough space on disk: requested 6201523840, available 2304471040. 45599440 requested and 31580641 written",
     "output_type": "error",
     "traceback": [
      "\u001b[0;31m---------------------------------------------------------------------------\u001b[0m",
      "\u001b[0;31mOSError\u001b[0m                                   Traceback (most recent call last)",
      "File \u001b[0;32m~/Desktop/MPhil_DIS/Gal_Arc/Coursework_GA/GA_CW_Venv/lib/python3.10/site-packages/astropy/io/fits/util.py:792\u001b[0m, in \u001b[0;36m_free_space_check\u001b[0;34m(hdulist, dirname)\u001b[0m\n\u001b[1;32m    791\u001b[0m \u001b[38;5;28;01mtry\u001b[39;00m:\n\u001b[0;32m--> 792\u001b[0m     \u001b[38;5;28;01myield\u001b[39;00m\n\u001b[1;32m    793\u001b[0m \u001b[38;5;28;01mexcept\u001b[39;00m \u001b[38;5;167;01mOSError\u001b[39;00m \u001b[38;5;28;01mas\u001b[39;00m exc:\n",
      "File \u001b[0;32m~/Desktop/MPhil_DIS/Gal_Arc/Coursework_GA/GA_CW_Venv/lib/python3.10/site-packages/astropy/io/fits/hdu/base.py:722\u001b[0m, in \u001b[0;36m_BaseHDU._writeto\u001b[0;34m(self, fileobj, inplace, copy)\u001b[0m\n\u001b[1;32m    721\u001b[0m \u001b[38;5;28;01mwith\u001b[39;00m _free_space_check(\u001b[38;5;28mself\u001b[39m, dirname):\n\u001b[0;32m--> 722\u001b[0m     \u001b[38;5;28;43mself\u001b[39;49m\u001b[38;5;241;43m.\u001b[39;49m\u001b[43m_writeto_internal\u001b[49m\u001b[43m(\u001b[49m\u001b[43mfileobj\u001b[49m\u001b[43m,\u001b[49m\u001b[43m \u001b[49m\u001b[43minplace\u001b[49m\u001b[43m,\u001b[49m\u001b[43m \u001b[49m\u001b[43mcopy\u001b[49m\u001b[43m)\u001b[49m\n",
      "File \u001b[0;32m~/Desktop/MPhil_DIS/Gal_Arc/Coursework_GA/GA_CW_Venv/lib/python3.10/site-packages/astropy/io/fits/hdu/base.py:728\u001b[0m, in \u001b[0;36m_BaseHDU._writeto_internal\u001b[0;34m(self, fileobj, inplace, copy)\u001b[0m\n\u001b[1;32m    727\u001b[0m header_offset, _ \u001b[38;5;241m=\u001b[39m \u001b[38;5;28mself\u001b[39m\u001b[38;5;241m.\u001b[39m_writeheader(fileobj)\n\u001b[0;32m--> 728\u001b[0m data_offset, data_size \u001b[38;5;241m=\u001b[39m \u001b[38;5;28;43mself\u001b[39;49m\u001b[38;5;241;43m.\u001b[39;49m\u001b[43m_writedata\u001b[49m\u001b[43m(\u001b[49m\u001b[43mfileobj\u001b[49m\u001b[43m)\u001b[49m\n\u001b[1;32m    730\u001b[0m \u001b[38;5;66;03m# Set the various data location attributes on newly-written HDUs\u001b[39;00m\n",
      "File \u001b[0;32m~/Desktop/MPhil_DIS/Gal_Arc/Coursework_GA/GA_CW_Venv/lib/python3.10/site-packages/astropy/io/fits/hdu/base.py:659\u001b[0m, in \u001b[0;36m_BaseHDU._writedata\u001b[0;34m(self, fileobj)\u001b[0m\n\u001b[1;32m    658\u001b[0m \u001b[38;5;28;01mif\u001b[39;00m \u001b[38;5;28mself\u001b[39m\u001b[38;5;241m.\u001b[39mdata \u001b[38;5;129;01mis\u001b[39;00m \u001b[38;5;129;01mnot\u001b[39;00m \u001b[38;5;28;01mNone\u001b[39;00m:\n\u001b[0;32m--> 659\u001b[0m     size \u001b[38;5;241m+\u001b[39m\u001b[38;5;241m=\u001b[39m \u001b[38;5;28;43mself\u001b[39;49m\u001b[38;5;241;43m.\u001b[39;49m\u001b[43m_writedata_internal\u001b[49m\u001b[43m(\u001b[49m\u001b[43mfileobj\u001b[49m\u001b[43m)\u001b[49m\n\u001b[1;32m    660\u001b[0m \u001b[38;5;66;03m# pad the FITS data block\u001b[39;00m\n\u001b[1;32m    661\u001b[0m \u001b[38;5;66;03m# to avoid a bug in the lustre filesystem client, don't\u001b[39;00m\n\u001b[1;32m    662\u001b[0m \u001b[38;5;66;03m# write zero-byte objects\u001b[39;00m\n",
      "File \u001b[0;32m~/Desktop/MPhil_DIS/Gal_Arc/Coursework_GA/GA_CW_Venv/lib/python3.10/site-packages/astropy/io/fits/hdu/table.py:950\u001b[0m, in \u001b[0;36mBinTableHDU._writedata_internal\u001b[0;34m(self, fileobj)\u001b[0m\n\u001b[1;32m    949\u001b[0m \u001b[38;5;28;01melse\u001b[39;00m:\n\u001b[0;32m--> 950\u001b[0m     \u001b[43mfileobj\u001b[49m\u001b[38;5;241;43m.\u001b[39;49m\u001b[43mwritearray\u001b[49m\u001b[43m(\u001b[49m\u001b[43mdata\u001b[49m\u001b[43m)\u001b[49m\n\u001b[1;32m    951\u001b[0m     \u001b[38;5;66;03m# write out the heap of variable length array columns this has\u001b[39;00m\n\u001b[1;32m    952\u001b[0m     \u001b[38;5;66;03m# to be done after the \"regular\" data is written (above)\u001b[39;00m\n\u001b[1;32m    953\u001b[0m     \u001b[38;5;66;03m# to avoid a bug in the lustre filesystem client, don't\u001b[39;00m\n\u001b[1;32m    954\u001b[0m     \u001b[38;5;66;03m# write 0-byte objects\u001b[39;00m\n",
      "File \u001b[0;32m~/Desktop/MPhil_DIS/Gal_Arc/Coursework_GA/GA_CW_Venv/lib/python3.10/site-packages/astropy/io/fits/file.py:442\u001b[0m, in \u001b[0;36m_File.writearray\u001b[0;34m(self, array)\u001b[0m\n\u001b[1;32m    441\u001b[0m \u001b[38;5;28;01mif\u001b[39;00m \u001b[38;5;28mhasattr\u001b[39m(\u001b[38;5;28mself\u001b[39m\u001b[38;5;241m.\u001b[39m_file, \u001b[38;5;124m\"\u001b[39m\u001b[38;5;124mwrite\u001b[39m\u001b[38;5;124m\"\u001b[39m):\n\u001b[0;32m--> 442\u001b[0m     \u001b[43m_array_to_file\u001b[49m\u001b[43m(\u001b[49m\u001b[43marray\u001b[49m\u001b[43m,\u001b[49m\u001b[43m \u001b[49m\u001b[38;5;28;43mself\u001b[39;49m\u001b[38;5;241;43m.\u001b[39;49m\u001b[43m_file\u001b[49m\u001b[43m)\u001b[49m\n",
      "File \u001b[0;32m~/Desktop/MPhil_DIS/Gal_Arc/Coursework_GA/GA_CW_Venv/lib/python3.10/site-packages/astropy/io/fits/util.py:598\u001b[0m, in \u001b[0;36m_array_to_file\u001b[0;34m(arr, outfile)\u001b[0m\n\u001b[1;32m    596\u001b[0m \u001b[38;5;28;01melse\u001b[39;00m:\n\u001b[1;32m    597\u001b[0m     \u001b[38;5;66;03m# Just pass the whole array to the write routine\u001b[39;00m\n\u001b[0;32m--> 598\u001b[0m     \u001b[38;5;28;01mreturn\u001b[39;00m \u001b[43mwrite\u001b[49m\u001b[43m(\u001b[49m\u001b[43marr\u001b[49m\u001b[43m,\u001b[49m\u001b[43m \u001b[49m\u001b[43moutfile\u001b[49m\u001b[43m)\u001b[49m\n\u001b[1;32m    600\u001b[0m \u001b[38;5;66;03m# Write one chunk at a time for systems whose fwrite chokes on large\u001b[39;00m\n\u001b[1;32m    601\u001b[0m \u001b[38;5;66;03m# writes.\u001b[39;00m\n",
      "File \u001b[0;32m~/Desktop/MPhil_DIS/Gal_Arc/Coursework_GA/GA_CW_Venv/lib/python3.10/site-packages/astropy/io/fits/util.py:573\u001b[0m, in \u001b[0;36m_array_to_file.<locals>.<lambda>\u001b[0;34m(a, f)\u001b[0m\n\u001b[1;32m    572\u001b[0m \u001b[38;5;28;01mif\u001b[39;00m isfile(outfile) \u001b[38;5;129;01mand\u001b[39;00m seekable:\n\u001b[0;32m--> 573\u001b[0m     write \u001b[38;5;241m=\u001b[39m \u001b[38;5;28;01mlambda\u001b[39;00m a, f: \u001b[43ma\u001b[49m\u001b[38;5;241;43m.\u001b[39;49m\u001b[43mtofile\u001b[49m\u001b[43m(\u001b[49m\u001b[43mf\u001b[49m\u001b[43m)\u001b[49m\n\u001b[1;32m    574\u001b[0m \u001b[38;5;28;01melse\u001b[39;00m:\n",
      "\u001b[0;31mOSError\u001b[0m: 45599440 requested and 31580641 written",
      "\nDuring handling of the above exception, another exception occurred:\n",
      "\u001b[0;31mOSError\u001b[0m                                   Traceback (most recent call last)",
      "File \u001b[0;32m~/Desktop/MPhil_DIS/Gal_Arc/Coursework_GA/GA_CW_Venv/lib/python3.10/site-packages/astropy/io/fits/util.py:792\u001b[0m, in \u001b[0;36m_free_space_check\u001b[0;34m(hdulist, dirname)\u001b[0m\n\u001b[1;32m    791\u001b[0m \u001b[38;5;28;01mtry\u001b[39;00m:\n\u001b[0;32m--> 792\u001b[0m     \u001b[38;5;28;01myield\u001b[39;00m\n\u001b[1;32m    793\u001b[0m \u001b[38;5;28;01mexcept\u001b[39;00m \u001b[38;5;167;01mOSError\u001b[39;00m \u001b[38;5;28;01mas\u001b[39;00m exc:\n",
      "File \u001b[0;32m~/Desktop/MPhil_DIS/Gal_Arc/Coursework_GA/GA_CW_Venv/lib/python3.10/site-packages/astropy/io/fits/hdu/hdulist.py:1043\u001b[0m, in \u001b[0;36mHDUList.writeto\u001b[0;34m(self, fileobj, output_verify, overwrite, checksum)\u001b[0m\n\u001b[1;32m   1042\u001b[0m hdu\u001b[38;5;241m.\u001b[39m_prewriteto(checksum\u001b[38;5;241m=\u001b[39mchecksum)\n\u001b[0;32m-> 1043\u001b[0m \u001b[43mhdu\u001b[49m\u001b[38;5;241;43m.\u001b[39;49m\u001b[43m_writeto\u001b[49m\u001b[43m(\u001b[49m\u001b[43mhdulist\u001b[49m\u001b[38;5;241;43m.\u001b[39;49m\u001b[43m_file\u001b[49m\u001b[43m)\u001b[49m\n\u001b[1;32m   1044\u001b[0m hdu\u001b[38;5;241m.\u001b[39m_postwriteto()\n",
      "File \u001b[0;32m~/Desktop/MPhil_DIS/Gal_Arc/Coursework_GA/GA_CW_Venv/lib/python3.10/site-packages/astropy/io/fits/hdu/base.py:721\u001b[0m, in \u001b[0;36m_BaseHDU._writeto\u001b[0;34m(self, fileobj, inplace, copy)\u001b[0m\n\u001b[1;32m    719\u001b[0m     dirname \u001b[38;5;241m=\u001b[39m \u001b[38;5;28;01mNone\u001b[39;00m\n\u001b[0;32m--> 721\u001b[0m \u001b[38;5;28;01mwith\u001b[39;00m _free_space_check(\u001b[38;5;28mself\u001b[39m, dirname):\n\u001b[1;32m    722\u001b[0m     \u001b[38;5;28mself\u001b[39m\u001b[38;5;241m.\u001b[39m_writeto_internal(fileobj, inplace, copy)\n",
      "File \u001b[0;32m~/.pyenv/versions/3.10.9/lib/python3.10/contextlib.py:153\u001b[0m, in \u001b[0;36m_GeneratorContextManager.__exit__\u001b[0;34m(self, typ, value, traceback)\u001b[0m\n\u001b[1;32m    152\u001b[0m \u001b[38;5;28;01mtry\u001b[39;00m:\n\u001b[0;32m--> 153\u001b[0m     \u001b[38;5;28;43mself\u001b[39;49m\u001b[38;5;241;43m.\u001b[39;49m\u001b[43mgen\u001b[49m\u001b[38;5;241;43m.\u001b[39;49m\u001b[43mthrow\u001b[49m\u001b[43m(\u001b[49m\u001b[43mtyp\u001b[49m\u001b[43m,\u001b[49m\u001b[43m \u001b[49m\u001b[43mvalue\u001b[49m\u001b[43m,\u001b[49m\u001b[43m \u001b[49m\u001b[43mtraceback\u001b[49m\u001b[43m)\u001b[49m\n\u001b[1;32m    154\u001b[0m \u001b[38;5;28;01mexcept\u001b[39;00m \u001b[38;5;167;01mStopIteration\u001b[39;00m \u001b[38;5;28;01mas\u001b[39;00m exc:\n\u001b[1;32m    155\u001b[0m     \u001b[38;5;66;03m# Suppress StopIteration *unless* it's the same exception that\u001b[39;00m\n\u001b[1;32m    156\u001b[0m     \u001b[38;5;66;03m# was passed to throw().  This prevents a StopIteration\u001b[39;00m\n\u001b[1;32m    157\u001b[0m     \u001b[38;5;66;03m# raised inside the \"with\" statement from being suppressed.\u001b[39;00m\n",
      "File \u001b[0;32m~/Desktop/MPhil_DIS/Gal_Arc/Coursework_GA/GA_CW_Venv/lib/python3.10/site-packages/astropy/io/fits/util.py:811\u001b[0m, in \u001b[0;36m_free_space_check\u001b[0;34m(hdulist, dirname)\u001b[0m\n\u001b[1;32m    809\u001b[0m     hdu\u001b[38;5;241m.\u001b[39m_close()\n\u001b[0;32m--> 811\u001b[0m \u001b[38;5;28;01mraise\u001b[39;00m \u001b[38;5;167;01mOSError\u001b[39;00m(error_message \u001b[38;5;241m+\u001b[39m \u001b[38;5;28mstr\u001b[39m(exc))\n",
      "\u001b[0;31mOSError\u001b[0m: Not enough space on disk: requested 6201523840, available 2304471040. 45599440 requested and 31580641 written",
      "\nDuring handling of the above exception, another exception occurred:\n",
      "\u001b[0;31mOSError\u001b[0m                                   Traceback (most recent call last)",
      "Cell \u001b[0;32mIn[3], line 1\u001b[0m\n\u001b[0;32m----> 1\u001b[0m \u001b[43mreddening_correction\u001b[49m\u001b[43m(\u001b[49m\u001b[43mraw_data_path_glob_clust\u001b[49m\u001b[43m,\u001b[49m\u001b[43m \u001b[49m\u001b[43mdustmaps_dir\u001b[49m\u001b[38;5;241;43m=\u001b[39;49m\u001b[38;5;124;43m'\u001b[39;49m\u001b[38;5;124;43mdustmaps/\u001b[39;49m\u001b[38;5;124;43m'\u001b[39;49m\u001b[43m)\u001b[49m\n",
      "File \u001b[0;32m~/Desktop/MPhil_DIS/Gal_Arc/Coursework_GA/Analysis/GA_analysis.py:173\u001b[0m, in \u001b[0;36mreddening_correction\u001b[0;34m(gaia_data_or_path, dustmaps_dir)\u001b[0m\n\u001b[1;32m    171\u001b[0m table_hdu \u001b[38;5;241m=\u001b[39m fits\u001b[38;5;241m.\u001b[39mBinTableHDU(data\u001b[38;5;241m=\u001b[39mcorrected_fits_data)\n\u001b[1;32m    172\u001b[0m hdul_new \u001b[38;5;241m=\u001b[39m fits\u001b[38;5;241m.\u001b[39mHDUList([primary_hdu, table_hdu])\n\u001b[0;32m--> 173\u001b[0m \u001b[43mhdul_new\u001b[49m\u001b[38;5;241;43m.\u001b[39;49m\u001b[43mwriteto\u001b[49m\u001b[43m(\u001b[49m\u001b[43moutput_fits\u001b[49m\u001b[43m,\u001b[49m\u001b[43m \u001b[49m\u001b[43moverwrite\u001b[49m\u001b[38;5;241;43m=\u001b[39;49m\u001b[38;5;28;43;01mTrue\u001b[39;49;00m\u001b[43m)\u001b[49m\n\u001b[1;32m    175\u001b[0m logging\u001b[38;5;241m.\u001b[39minfo(\u001b[38;5;124mf\u001b[39m\u001b[38;5;124m\"\u001b[39m\u001b[38;5;124mExtinction-corrected FITS file saved as: \u001b[39m\u001b[38;5;132;01m{\u001b[39;00moutput_fits\u001b[38;5;132;01m}\u001b[39;00m\u001b[38;5;124m\"\u001b[39m)\n\u001b[1;32m    176\u001b[0m \u001b[38;5;28;01mreturn\u001b[39;00m \u001b[38;5;28;01mNone\u001b[39;00m\n",
      "File \u001b[0;32m~/Desktop/MPhil_DIS/Gal_Arc/Coursework_GA/GA_CW_Venv/lib/python3.10/site-packages/astropy/io/fits/hdu/hdulist.py:1040\u001b[0m, in \u001b[0;36mHDUList.writeto\u001b[0;34m(self, fileobj, output_verify, overwrite, checksum)\u001b[0m\n\u001b[1;32m   1037\u001b[0m     dirname \u001b[38;5;241m=\u001b[39m \u001b[38;5;28;01mNone\u001b[39;00m\n\u001b[1;32m   1039\u001b[0m \u001b[38;5;28;01mtry\u001b[39;00m:\n\u001b[0;32m-> 1040\u001b[0m     \u001b[38;5;28;01mwith\u001b[39;00m _free_space_check(\u001b[38;5;28mself\u001b[39m, dirname\u001b[38;5;241m=\u001b[39mdirname):\n\u001b[1;32m   1041\u001b[0m         \u001b[38;5;28;01mfor\u001b[39;00m hdu \u001b[38;5;129;01min\u001b[39;00m \u001b[38;5;28mself\u001b[39m:\n\u001b[1;32m   1042\u001b[0m             hdu\u001b[38;5;241m.\u001b[39m_prewriteto(checksum\u001b[38;5;241m=\u001b[39mchecksum)\n",
      "File \u001b[0;32m~/.pyenv/versions/3.10.9/lib/python3.10/contextlib.py:153\u001b[0m, in \u001b[0;36m_GeneratorContextManager.__exit__\u001b[0;34m(self, typ, value, traceback)\u001b[0m\n\u001b[1;32m    151\u001b[0m     value \u001b[38;5;241m=\u001b[39m typ()\n\u001b[1;32m    152\u001b[0m \u001b[38;5;28;01mtry\u001b[39;00m:\n\u001b[0;32m--> 153\u001b[0m     \u001b[38;5;28;43mself\u001b[39;49m\u001b[38;5;241;43m.\u001b[39;49m\u001b[43mgen\u001b[49m\u001b[38;5;241;43m.\u001b[39;49m\u001b[43mthrow\u001b[49m\u001b[43m(\u001b[49m\u001b[43mtyp\u001b[49m\u001b[43m,\u001b[49m\u001b[43m \u001b[49m\u001b[43mvalue\u001b[49m\u001b[43m,\u001b[49m\u001b[43m \u001b[49m\u001b[43mtraceback\u001b[49m\u001b[43m)\u001b[49m\n\u001b[1;32m    154\u001b[0m \u001b[38;5;28;01mexcept\u001b[39;00m \u001b[38;5;167;01mStopIteration\u001b[39;00m \u001b[38;5;28;01mas\u001b[39;00m exc:\n\u001b[1;32m    155\u001b[0m     \u001b[38;5;66;03m# Suppress StopIteration *unless* it's the same exception that\u001b[39;00m\n\u001b[1;32m    156\u001b[0m     \u001b[38;5;66;03m# was passed to throw().  This prevents a StopIteration\u001b[39;00m\n\u001b[1;32m    157\u001b[0m     \u001b[38;5;66;03m# raised inside the \"with\" statement from being suppressed.\u001b[39;00m\n\u001b[1;32m    158\u001b[0m     \u001b[38;5;28;01mreturn\u001b[39;00m exc \u001b[38;5;129;01mis\u001b[39;00m \u001b[38;5;129;01mnot\u001b[39;00m value\n",
      "File \u001b[0;32m~/Desktop/MPhil_DIS/Gal_Arc/Coursework_GA/GA_CW_Venv/lib/python3.10/site-packages/astropy/io/fits/util.py:811\u001b[0m, in \u001b[0;36m_free_space_check\u001b[0;34m(hdulist, dirname)\u001b[0m\n\u001b[1;32m    808\u001b[0m \u001b[38;5;28;01mfor\u001b[39;00m hdu \u001b[38;5;129;01min\u001b[39;00m hdulist:\n\u001b[1;32m    809\u001b[0m     hdu\u001b[38;5;241m.\u001b[39m_close()\n\u001b[0;32m--> 811\u001b[0m \u001b[38;5;28;01mraise\u001b[39;00m \u001b[38;5;167;01mOSError\u001b[39;00m(error_message \u001b[38;5;241m+\u001b[39m \u001b[38;5;28mstr\u001b[39m(exc))\n",
      "\u001b[0;31mOSError\u001b[0m: Not enough space on disk: requested 6201523840, available 2304471040. Not enough space on disk: requested 6201523840, available 2304471040. 45599440 requested and 31580641 written"
     ]
    }
   ],
   "source": [
    "reddening_correction(raw_data_path_glob_clust, dustmaps_dir='dustmaps/')"
   ]
  },
  {
   "cell_type": "code",
   "execution_count": 6,
   "metadata": {},
   "outputs": [
    {
     "ename": "OSError",
     "evalue": "No SIMPLE card found, this file does not appear to be a valid FITS file. If this is really a FITS file, try with ignore_missing_simple=True",
     "output_type": "error",
     "traceback": [
      "\u001b[0;31m---------------------------------------------------------------------------\u001b[0m",
      "\u001b[0;31mOSError\u001b[0m                                   Traceback (most recent call last)",
      "Cell \u001b[0;32mIn[6], line 1\u001b[0m\n\u001b[0;32m----> 1\u001b[0m \u001b[43mreddening_correction\u001b[49m\u001b[43m(\u001b[49m\u001b[43mraw_data_path_stream\u001b[49m\u001b[43m,\u001b[49m\u001b[43m \u001b[49m\u001b[43mdustmaps_dir\u001b[49m\u001b[38;5;241;43m=\u001b[39;49m\u001b[38;5;124;43m'\u001b[39;49m\u001b[38;5;124;43mdustmaps/\u001b[39;49m\u001b[38;5;124;43m'\u001b[39;49m\u001b[43m)\u001b[49m\n",
      "File \u001b[0;32m~/Desktop/MPhil_DIS/Gal_Arc/Coursework_GA/Analysis/GA_analysis.py:146\u001b[0m, in \u001b[0;36mreddening_correction\u001b[0;34m(gaia_data_or_path, dustmaps_dir)\u001b[0m\n\u001b[1;32m    143\u001b[0m output_fits \u001b[38;5;241m=\u001b[39m input_fits\u001b[38;5;241m.\u001b[39mreplace(\u001b[38;5;124m\"\u001b[39m\u001b[38;5;124m.fits\u001b[39m\u001b[38;5;124m\"\u001b[39m, \u001b[38;5;124m\"\u001b[39m\u001b[38;5;124m_extinction_corrected.fits\u001b[39m\u001b[38;5;124m\"\u001b[39m)\n\u001b[1;32m    145\u001b[0m \u001b[38;5;66;03m# Load the data and convet to pandas df\u001b[39;00m\n\u001b[0;32m--> 146\u001b[0m \u001b[38;5;28;01mwith\u001b[39;00m \u001b[43mfits\u001b[49m\u001b[38;5;241;43m.\u001b[39;49m\u001b[43mopen\u001b[49m\u001b[43m(\u001b[49m\u001b[43minput_fits\u001b[49m\u001b[43m,\u001b[49m\u001b[43m \u001b[49m\u001b[43mmemmap\u001b[49m\u001b[38;5;241;43m=\u001b[39;49m\u001b[38;5;28;43;01mTrue\u001b[39;49;00m\u001b[43m)\u001b[49m \u001b[38;5;28;01mas\u001b[39;00m hdul:\n\u001b[1;32m    147\u001b[0m     data \u001b[38;5;241m=\u001b[39m hdul[\u001b[38;5;241m1\u001b[39m]\u001b[38;5;241m.\u001b[39mdata \n\u001b[1;32m    148\u001b[0m     logging\u001b[38;5;241m.\u001b[39minfo(\u001b[38;5;124m'\u001b[39m\u001b[38;5;124mConverting to a Pandas Dataframe...\u001b[39m\u001b[38;5;124m'\u001b[39m)\n",
      "File \u001b[0;32m~/Desktop/MPhil_DIS/Gal_Arc/Coursework_GA/GA_CW_Venv/lib/python3.10/site-packages/astropy/io/fits/hdu/hdulist.py:223\u001b[0m, in \u001b[0;36mfitsopen\u001b[0;34m(name, mode, memmap, save_backup, cache, lazy_load_hdus, ignore_missing_simple, use_fsspec, fsspec_kwargs, decompress_in_memory, **kwargs)\u001b[0m\n\u001b[1;32m    220\u001b[0m \u001b[38;5;28;01mif\u001b[39;00m \u001b[38;5;129;01mnot\u001b[39;00m name:\n\u001b[1;32m    221\u001b[0m     \u001b[38;5;28;01mraise\u001b[39;00m \u001b[38;5;167;01mValueError\u001b[39;00m(\u001b[38;5;124mf\u001b[39m\u001b[38;5;124m\"\u001b[39m\u001b[38;5;124mEmpty filename: \u001b[39m\u001b[38;5;132;01m{\u001b[39;00mname\u001b[38;5;132;01m!r}\u001b[39;00m\u001b[38;5;124m\"\u001b[39m)\n\u001b[0;32m--> 223\u001b[0m \u001b[38;5;28;01mreturn\u001b[39;00m \u001b[43mHDUList\u001b[49m\u001b[38;5;241;43m.\u001b[39;49m\u001b[43mfromfile\u001b[49m\u001b[43m(\u001b[49m\n\u001b[1;32m    224\u001b[0m \u001b[43m    \u001b[49m\u001b[43mname\u001b[49m\u001b[43m,\u001b[49m\n\u001b[1;32m    225\u001b[0m \u001b[43m    \u001b[49m\u001b[43mmode\u001b[49m\u001b[43m,\u001b[49m\n\u001b[1;32m    226\u001b[0m \u001b[43m    \u001b[49m\u001b[43mmemmap\u001b[49m\u001b[43m,\u001b[49m\n\u001b[1;32m    227\u001b[0m \u001b[43m    \u001b[49m\u001b[43msave_backup\u001b[49m\u001b[43m,\u001b[49m\n\u001b[1;32m    228\u001b[0m \u001b[43m    \u001b[49m\u001b[43mcache\u001b[49m\u001b[43m,\u001b[49m\n\u001b[1;32m    229\u001b[0m \u001b[43m    \u001b[49m\u001b[43mlazy_load_hdus\u001b[49m\u001b[43m,\u001b[49m\n\u001b[1;32m    230\u001b[0m \u001b[43m    \u001b[49m\u001b[43mignore_missing_simple\u001b[49m\u001b[43m,\u001b[49m\n\u001b[1;32m    231\u001b[0m \u001b[43m    \u001b[49m\u001b[43muse_fsspec\u001b[49m\u001b[38;5;241;43m=\u001b[39;49m\u001b[43muse_fsspec\u001b[49m\u001b[43m,\u001b[49m\n\u001b[1;32m    232\u001b[0m \u001b[43m    \u001b[49m\u001b[43mfsspec_kwargs\u001b[49m\u001b[38;5;241;43m=\u001b[39;49m\u001b[43mfsspec_kwargs\u001b[49m\u001b[43m,\u001b[49m\n\u001b[1;32m    233\u001b[0m \u001b[43m    \u001b[49m\u001b[43mdecompress_in_memory\u001b[49m\u001b[38;5;241;43m=\u001b[39;49m\u001b[43mdecompress_in_memory\u001b[49m\u001b[43m,\u001b[49m\n\u001b[1;32m    234\u001b[0m \u001b[43m    \u001b[49m\u001b[38;5;241;43m*\u001b[39;49m\u001b[38;5;241;43m*\u001b[39;49m\u001b[43mkwargs\u001b[49m\u001b[43m,\u001b[49m\n\u001b[1;32m    235\u001b[0m \u001b[43m\u001b[49m\u001b[43m)\u001b[49m\n",
      "File \u001b[0;32m~/Desktop/MPhil_DIS/Gal_Arc/Coursework_GA/GA_CW_Venv/lib/python3.10/site-packages/astropy/io/fits/hdu/hdulist.py:487\u001b[0m, in \u001b[0;36mHDUList.fromfile\u001b[0;34m(cls, fileobj, mode, memmap, save_backup, cache, lazy_load_hdus, ignore_missing_simple, **kwargs)\u001b[0m\n\u001b[1;32m    468\u001b[0m \u001b[38;5;129m@classmethod\u001b[39m\n\u001b[1;32m    469\u001b[0m \u001b[38;5;28;01mdef\u001b[39;00m\u001b[38;5;250m \u001b[39m\u001b[38;5;21mfromfile\u001b[39m(\n\u001b[1;32m    470\u001b[0m     \u001b[38;5;28mcls\u001b[39m,\n\u001b[0;32m   (...)\u001b[0m\n\u001b[1;32m    478\u001b[0m     \u001b[38;5;241m*\u001b[39m\u001b[38;5;241m*\u001b[39mkwargs,\n\u001b[1;32m    479\u001b[0m ):\n\u001b[1;32m    480\u001b[0m \u001b[38;5;250m    \u001b[39m\u001b[38;5;124;03m\"\"\"\u001b[39;00m\n\u001b[1;32m    481\u001b[0m \u001b[38;5;124;03m    Creates an `HDUList` instance from a file-like object.\u001b[39;00m\n\u001b[1;32m    482\u001b[0m \n\u001b[0;32m   (...)\u001b[0m\n\u001b[1;32m    485\u001b[0m \u001b[38;5;124;03m    documentation for details of the parameters accepted by this method).\u001b[39;00m\n\u001b[1;32m    486\u001b[0m \u001b[38;5;124;03m    \"\"\"\u001b[39;00m\n\u001b[0;32m--> 487\u001b[0m     \u001b[38;5;28;01mreturn\u001b[39;00m \u001b[38;5;28;43mcls\u001b[39;49m\u001b[38;5;241;43m.\u001b[39;49m\u001b[43m_readfrom\u001b[49m\u001b[43m(\u001b[49m\n\u001b[1;32m    488\u001b[0m \u001b[43m        \u001b[49m\u001b[43mfileobj\u001b[49m\u001b[38;5;241;43m=\u001b[39;49m\u001b[43mfileobj\u001b[49m\u001b[43m,\u001b[49m\n\u001b[1;32m    489\u001b[0m \u001b[43m        \u001b[49m\u001b[43mmode\u001b[49m\u001b[38;5;241;43m=\u001b[39;49m\u001b[43mmode\u001b[49m\u001b[43m,\u001b[49m\n\u001b[1;32m    490\u001b[0m \u001b[43m        \u001b[49m\u001b[43mmemmap\u001b[49m\u001b[38;5;241;43m=\u001b[39;49m\u001b[43mmemmap\u001b[49m\u001b[43m,\u001b[49m\n\u001b[1;32m    491\u001b[0m \u001b[43m        \u001b[49m\u001b[43msave_backup\u001b[49m\u001b[38;5;241;43m=\u001b[39;49m\u001b[43msave_backup\u001b[49m\u001b[43m,\u001b[49m\n\u001b[1;32m    492\u001b[0m \u001b[43m        \u001b[49m\u001b[43mcache\u001b[49m\u001b[38;5;241;43m=\u001b[39;49m\u001b[43mcache\u001b[49m\u001b[43m,\u001b[49m\n\u001b[1;32m    493\u001b[0m \u001b[43m        \u001b[49m\u001b[43mignore_missing_simple\u001b[49m\u001b[38;5;241;43m=\u001b[39;49m\u001b[43mignore_missing_simple\u001b[49m\u001b[43m,\u001b[49m\n\u001b[1;32m    494\u001b[0m \u001b[43m        \u001b[49m\u001b[43mlazy_load_hdus\u001b[49m\u001b[38;5;241;43m=\u001b[39;49m\u001b[43mlazy_load_hdus\u001b[49m\u001b[43m,\u001b[49m\n\u001b[1;32m    495\u001b[0m \u001b[43m        \u001b[49m\u001b[38;5;241;43m*\u001b[39;49m\u001b[38;5;241;43m*\u001b[39;49m\u001b[43mkwargs\u001b[49m\u001b[43m,\u001b[49m\n\u001b[1;32m    496\u001b[0m \u001b[43m    \u001b[49m\u001b[43m)\u001b[49m\n",
      "File \u001b[0;32m~/Desktop/MPhil_DIS/Gal_Arc/Coursework_GA/GA_CW_Venv/lib/python3.10/site-packages/astropy/io/fits/hdu/hdulist.py:1222\u001b[0m, in \u001b[0;36mHDUList._readfrom\u001b[0;34m(cls, fileobj, data, mode, memmap, cache, lazy_load_hdus, ignore_missing_simple, use_fsspec, fsspec_kwargs, decompress_in_memory, **kwargs)\u001b[0m\n\u001b[1;32m   1220\u001b[0m             \u001b[38;5;28;01mif\u001b[39;00m hdulist\u001b[38;5;241m.\u001b[39m_file\u001b[38;5;241m.\u001b[39mclose_on_error:\n\u001b[1;32m   1221\u001b[0m                 hdulist\u001b[38;5;241m.\u001b[39m_file\u001b[38;5;241m.\u001b[39mclose()\n\u001b[0;32m-> 1222\u001b[0m             \u001b[38;5;28;01mraise\u001b[39;00m \u001b[38;5;167;01mOSError\u001b[39;00m(\n\u001b[1;32m   1223\u001b[0m                 \u001b[38;5;124m\"\u001b[39m\u001b[38;5;124mNo SIMPLE card found, this file does not appear to \u001b[39m\u001b[38;5;124m\"\u001b[39m\n\u001b[1;32m   1224\u001b[0m                 \u001b[38;5;124m\"\u001b[39m\u001b[38;5;124mbe a valid FITS file. If this is really a FITS file, \u001b[39m\u001b[38;5;124m\"\u001b[39m\n\u001b[1;32m   1225\u001b[0m                 \u001b[38;5;124m\"\u001b[39m\u001b[38;5;124mtry with ignore_missing_simple=True\u001b[39m\u001b[38;5;124m\"\u001b[39m\n\u001b[1;32m   1226\u001b[0m             )\n\u001b[1;32m   1228\u001b[0m     hdulist\u001b[38;5;241m.\u001b[39m_file\u001b[38;5;241m.\u001b[39mseek(pos)\n\u001b[1;32m   1230\u001b[0m \u001b[38;5;66;03m# Store additional keyword args that were passed to fits.open\u001b[39;00m\n",
      "\u001b[0;31mOSError\u001b[0m: No SIMPLE card found, this file does not appear to be a valid FITS file. If this is really a FITS file, try with ignore_missing_simple=True"
     ]
    }
   ],
   "source": [
    "reddening_correction(raw_data_path_stream, dustmaps_dir='dustmaps/')"
   ]
  },
  {
   "cell_type": "markdown",
   "metadata": {},
   "source": [
    "## Red Giant Branch Selection\n",
    "\n",
    "Filtering is applied to increase the fraction of red giant stars, enhancing the halo population as:\n",
    "- **Bright tracers** of old stellar populations, needed in the study of **globular clusters** and **Milky Way substructures**.\n",
    "- **Observable at large distances**, thus able to detect faint halo features.\n",
    "- **Key indicators** of tidal streams and accreted structures, helping reconstruct the Milky Way’s formation history.\n",
    "\n",
    "### **Filters Applied**\n",
    "The filters are justified within notebooks 1-3, and are as follows:\n",
    "\n",
    "#### **In Gaia Query**\n",
    "\n",
    "| Parameter                 | Condition Applied |\n",
    "|---------------------------|------------------|\n",
    "| **Photometric Magnitude (G-band)** | `10 ≤ G ≤ 20.5` (Filter for brighter - red giant stars)|\n",
    "| **Parallax** | `-0.3 ≤ parallax ≤ 0.3` (Selecting distant stars, minimizing foreground contamination) |\n",
    "| **RUWE (Renormalized Unit Weight Error)** | `ruwe < 1.4` (Ensuring good astrometric solutions) |\n",
    "| **Proper Motion Constraint** | `(pmra² + pmdec²) < 144` (Selecting stars with relatively small proper motion, likely halo members) |\n",
    "| **Photogeometric Distance** | `r_med_photogeo IS NOT NULL` (Ensuring a valid distance estimate from Bailer-Jones) |\n",
    "| **Random Index Range** | `500000000 ≤ random_index ≤ 685000000` (Random subset selection for managable data size) |\n",
    "\n",
    "#### **Additional Cuts (RGB Filter)**\n",
    "| Parameter                | Proposed Value |\n",
    "|--------------------------|---------------|\n",
    "| **BP-RP Color Cut (Lower)** | `BP-RP ≥ 0.5` (Selecting redder stars, excluding very blue main-sequence stars) |\n",
    "| **BP-RP Color Cut (Upper)** | `BP-RP ≤ 2` (Excluding low-tempreture early stage stars, red dwarfs ) |\n",
    "| **G Magnitude Limit** | `G ≤ 19` (Removig dim stars, main sequence and non red giants) |\n",
    "| **Absolute Magnitude Cut** | `M_G ≤ 5.2` (Selecting evolved stars, avoiding faint dwarfs) |\n",
    "\n",
    "This filtering strategy refines the sample to increase the likelihood of selecting **red giant stars** and identifying key **halo structures**.\n",
    "\n"
   ]
  },
  {
   "cell_type": "code",
   "execution_count": null,
   "metadata": {},
   "outputs": [],
   "source": [
    "extinction_corrected_data_path_glob_clust = 'data/Allsky_Gaia_45599440_extinction_corrected.fits'\n",
    "extinction_corrected_data_path_stream = 'data/Allsky_Gaia_8910601_rv_extinction_corrected.fits'"
   ]
  },
  {
   "cell_type": "code",
   "execution_count": null,
   "metadata": {},
   "outputs": [
    {
     "name": "stderr",
     "output_type": "stream",
     "text": [
      "2025-03-17 01:06:47,144 - INFO - Loaded 45599440 from FITS File ...\n",
      "2025-03-17 01:06:47,144 - INFO - Converting to a Pandas Dataframe...\n",
      "2025-03-17 01:08:10,353 - INFO - Applying RGB filter...\n",
      "2025-03-17 01:08:13,345 - INFO - \n",
      "Total stars before filtering: 45599440\n",
      "Stars passing BP-RP color filter: 38350020 (84.10%)\n",
      "Stars passing apparent magnitude filter: 37476340 (82.19%)\n",
      "Stars passing absolute magnitude filter: 35746085 (78.39%)\n",
      "Stars passing all filters: 26150553 (57.35%)\n",
      "Halo RGB filtered FITS file saved as: data/Allsky_Gaia_45599440_extinction_corrected_filtered.fits\n",
      "2025-03-17 01:08:13,346 - INFO - Saving filtered data to new FITS file...\n",
      "2025-03-17 01:09:32,834 - INFO - Halo RGB filtered FITS file saved as: data/Allsky_Gaia_45599440_extinction_corrected_filtered.fits\n"
     ]
    }
   ],
   "source": [
    "rgb_filter(extinction_corrected_data_path_glob_clust, min_bp_rp=0.5, max_bp_rp=2, max_app_mag=19, max_abs_mag=5.2)"
   ]
  },
  {
   "cell_type": "code",
   "execution_count": null,
   "metadata": {},
   "outputs": [],
   "source": [
    "rgb_filter(extinction_corrected_data_path_stream, min_bp_rp=0.5, max_bp_rp=2, max_app_mag=19, max_abs_mag=5.2)"
   ]
  },
  {
   "cell_type": "markdown",
   "metadata": {},
   "source": [
    "## Add Orbital Parameters for Tidal Stream Information\n",
    "\n",
    "This adds **Galpy-derived orbital parameters** to a dataset of Gaia stars. \n",
    "\n",
    "### **Functionality**\n",
    "3. **Computes orbital parameters** using `galpy` and `SkyCoord`:\n",
    "   - **Energy (`E`)** – The total energy of the star in the Milky Way potential.\n",
    "   - **Z-component of Angular Momentum (`Lz`)** – Measures rotation about the Galactic center.\n",
    "   - **Galactocentric Radius (`R_gal`)** – The current radial position of the star.\n",
    "   - **Vertical Action (`Jz`)** – Describes oscillations above and below the Galactic plane.\n",
    "\n",
    "---\n",
    "\n",
    "### **Reasoning**\n",
    "- **Tidal streams share (`E`, `Lz`, `Jz`)** – Stars from the same stream have nearly identical orbital properties.  \n",
    "- **Energy (`E`) is conserved** – Helps separate streams from field stars.  \n",
    "- **Angular momentum (`Lz`, `Jz`) clusters streams** – Groups stars with common origins.  \n",
    "- **Galactocentric radius (`R_gal`) refines selection** – Ensures clustering aligns with stream positions.  \n"
   ]
  }
 ],
 "metadata": {
  "kernelspec": {
   "display_name": "GA Coursework Venv",
   "language": "python",
   "name": "ga_cw_venv"
  },
  "language_info": {
   "codemirror_mode": {
    "name": "ipython",
    "version": 3
   },
   "file_extension": ".py",
   "mimetype": "text/x-python",
   "name": "python",
   "nbconvert_exporter": "python",
   "pygments_lexer": "ipython3",
   "version": "3.10.9"
  }
 },
 "nbformat": 4,
 "nbformat_minor": 2
}
