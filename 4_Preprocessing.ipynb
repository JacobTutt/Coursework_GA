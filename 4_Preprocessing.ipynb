{
 "cells": [
  {
   "cell_type": "markdown",
   "metadata": {},
   "source": [
    "# Preproccessing \n",
    "- This notebook preforms the following tasks\n",
    "- Extinction correction (de-reddening)\n",
    "- Red Giant Branch Filtering "
   ]
  },
  {
   "cell_type": "code",
   "execution_count": 1,
   "metadata": {},
   "outputs": [],
   "source": [
    "from Analysis import reddening_correction\n",
    "from Analysis import rgb_filter\n",
    "from Analysis import add_galpy_orbital_parameters"
   ]
  },
  {
   "cell_type": "markdown",
   "metadata": {
    "vscode": {
     "languageId": "plaintext"
    }
   },
   "source": [
    "## Extinction Correction\n",
    "\n",
    "- Applies Galactic extinction corrections to Gaia DR3 photometry using the Schlegel, Finkbeiner & Davis (1998) (SFD) dust map and extinction coefficients from Casagrande et al. (2021)."
   ]
  },
  {
   "cell_type": "code",
   "execution_count": 2,
   "metadata": {},
   "outputs": [],
   "source": [
    "raw_data_path_glob_clust = 'data/Allsky_Gaia_45599440.fits'\n",
    "raw_data_path_stream = 'data/Allsky_Gaia_8910601_rv.fits'"
   ]
  },
  {
   "cell_type": "code",
   "execution_count": 5,
   "metadata": {},
   "outputs": [
    {
     "name": "stderr",
     "output_type": "stream",
     "text": [
      "2025-03-17 22:25:16,570 - INFO - Converting to a Pandas Dataframe...\n",
      "2025-03-17 22:29:57,987 - INFO - Applying extinction correction...\n",
      "2025-03-17 22:30:10,277 - INFO - Converting back to FITS format...\n",
      "2025-03-17 22:31:06,200 - INFO - Saving to new file...\n",
      "2025-03-17 22:45:37,190 - INFO - Extinction-corrected FITS file saved as: data/Allsky_Gaia_45599440_extinction_corrected.fits\n"
     ]
    }
   ],
   "source": [
    "reddening_correction(raw_data_path_glob_clust, dustmaps_dir='dustmaps/')"
   ]
  },
  {
   "cell_type": "code",
   "execution_count": 3,
   "metadata": {},
   "outputs": [
    {
     "name": "stderr",
     "output_type": "stream",
     "text": [
      "2025-03-17 21:57:47,722 - INFO - Converting to a Pandas Dataframe...\n",
      "2025-03-17 21:57:50,601 - INFO - Applying extinction correction...\n",
      "2025-03-17 21:57:53,716 - INFO - Converting back to FITS format...\n",
      "2025-03-17 21:57:55,397 - INFO - Saving to new file...\n",
      "2025-03-17 21:58:02,299 - INFO - Extinction-corrected FITS file saved as: data/Allsky_Gaia_8910601_rv_extinction_corrected.fits\n"
     ]
    }
   ],
   "source": [
    "reddening_correction(raw_data_path_stream, dustmaps_dir='dustmaps/')"
   ]
  },
  {
   "cell_type": "markdown",
   "metadata": {},
   "source": [
    "## Red Giant Branch Selection\n",
    "\n",
    "Filtering is applied to increase the fraction of red giant stars, enhancing the halo population as:\n",
    "- **Bright tracers** of old stellar populations, needed in the study of **globular clusters** and **Milky Way substructures**.\n",
    "- **Observable at large distances**, thus able to detect faint halo features.\n",
    "- **Key indicators** of tidal streams and accreted structures, helping reconstruct the Milky Way’s formation history.\n",
    "\n",
    "### **Filters Applied**\n",
    "The filters are justified within notebooks 1-3, and are as follows:\n",
    "\n",
    "#### **In Gaia Query**\n",
    "\n",
    "| Parameter                 | Condition Applied |\n",
    "|---------------------------|------------------|\n",
    "| **Photometric Magnitude (G-band)** | `10 ≤ G ≤ 20.5` (Filter for brighter - red giant stars)|\n",
    "| **Parallax** | `-0.3 ≤ parallax ≤ 0.3` (Selecting distant stars, minimizing foreground contamination) |\n",
    "| **RUWE (Renormalized Unit Weight Error)** | `ruwe < 1.4` (Ensuring good astrometric solutions) |\n",
    "| **Proper Motion Constraint** | `(pmra² + pmdec²) < 144` (Selecting stars with relatively small proper motion, likely halo members) |\n",
    "| **Photogeometric Distance** | `r_med_photogeo IS NOT NULL` (Ensuring a valid distance estimate from Bailer-Jones) |\n",
    "| **Random Index Range** | `500000000 ≤ random_index ≤ 685000000` (Random subset selection for managable data size) |\n",
    "\n",
    "#### **Additional Cuts (RGB Filter)**\n",
    "| Parameter                | Proposed Value |\n",
    "|--------------------------|---------------|\n",
    "| **BP-RP Color Cut (Lower)** | `BP-RP ≥ 0.5` (Selecting redder stars, excluding very blue main-sequence stars) |\n",
    "| **BP-RP Color Cut (Upper)** | `BP-RP ≤ 2` (Excluding low-tempreture early stage stars, red dwarfs ) |\n",
    "| **G Magnitude Limit** | `G ≤ 19` (Removig dim stars, main sequence and non red giants) |\n",
    "| **Absolute Magnitude Cut** | `M_G ≤ 5.2` (Selecting evolved stars, avoiding faint dwarfs) |\n",
    "\n",
    "This filtering strategy refines the sample to increase the likelihood of selecting **red giant stars** and identifying key **halo structures**.\n",
    "\n"
   ]
  },
  {
   "cell_type": "code",
   "execution_count": 7,
   "metadata": {},
   "outputs": [],
   "source": [
    "extinction_corrected_data_path_glob_clust = 'data/Allsky_Gaia_45599440_extinction_corrected.fits'\n",
    "extinction_corrected_data_path_stream = 'data/Allsky_Gaia_8910601_rv_extinction_corrected.fits'"
   ]
  },
  {
   "cell_type": "code",
   "execution_count": 8,
   "metadata": {},
   "outputs": [
    {
     "name": "stderr",
     "output_type": "stream",
     "text": [
      "2025-03-17 22:46:41,818 - INFO - Loaded 45599440 from FITS File ...\n",
      "2025-03-17 22:46:41,819 - INFO - Converting to a Pandas Dataframe...\n",
      "2025-03-17 22:47:12,096 - INFO - Applying RGB filter...\n",
      "2025-03-17 22:47:15,029 - INFO - \n",
      "Total stars before filtering: 45599440\n",
      "Stars passing BP-RP color filter: 38350020 (84.10%)\n",
      "Stars passing apparent magnitude filter: 37476340 (82.19%)\n",
      "Stars passing absolute magnitude filter: 35746085 (78.39%)\n",
      "Stars passing all filters: 26150553 (57.35%)\n",
      "Halo RGB filtered FITS file saved as: data/Allsky_Gaia_45599440_extinction_corrected_filtered.fits\n",
      "2025-03-17 22:47:15,029 - INFO - Saving filtered data to new FITS file...\n",
      "2025-03-17 22:48:20,772 - INFO - Halo RGB filtered FITS file saved as: data/Allsky_Gaia_45599440_extinction_corrected_filtered.fits\n"
     ]
    }
   ],
   "source": [
    "rgb_filter(extinction_corrected_data_path_glob_clust, min_bp_rp=0.5, max_bp_rp=2, max_app_mag=19, max_abs_mag=5.2)"
   ]
  },
  {
   "cell_type": "code",
   "execution_count": 6,
   "metadata": {},
   "outputs": [
    {
     "name": "stderr",
     "output_type": "stream",
     "text": [
      "2025-03-17 21:58:20,189 - INFO - Loaded 8910601 from FITS File ...\n",
      "2025-03-17 21:58:20,190 - INFO - Converting to a Pandas Dataframe...\n",
      "2025-03-17 21:58:22,812 - INFO - Applying RGB filter...\n",
      "2025-03-17 21:58:23,609 - INFO - \n",
      "Total stars before filtering: 8910601\n",
      "Stars passing BP-RP color filter: 7438858 (83.48%)\n",
      "Stars passing apparent magnitude filter: 8910601 (100.00%)\n",
      "Stars passing absolute magnitude filter: 8910600 (100.00%)\n",
      "Stars passing all filters: 7438858 (83.48%)\n",
      "Halo RGB filtered FITS file saved as: data/Allsky_Gaia_8910601_rv_extinction_corrected_filtered.fits\n",
      "2025-03-17 21:58:23,609 - INFO - Saving filtered data to new FITS file...\n",
      "2025-03-17 21:58:30,256 - INFO - Halo RGB filtered FITS file saved as: data/Allsky_Gaia_8910601_rv_extinction_corrected_filtered.fits\n"
     ]
    }
   ],
   "source": [
    "rgb_filter(extinction_corrected_data_path_stream, min_bp_rp=0.5, max_bp_rp=2, max_app_mag=19, max_abs_mag=5.2)"
   ]
  },
  {
   "cell_type": "markdown",
   "metadata": {},
   "source": [
    "## Add Orbital Parameters for Tidal Stream Information\n",
    "\n",
    "This adds **Galpy-derived orbital parameters** to a dataset of Gaia stars. \n",
    "\n",
    "### **Functionality**\n",
    "3. **Computes orbital parameters** using `galpy` and `SkyCoord`:\n",
    "   - **Energy (`E`)** – The total energy of the star in the Milky Way potential.\n",
    "   - **Z-component of Angular Momentum (`Lz`)** – Measures rotation about the Galactic center.\n",
    "   - **Galactocentric Radius (`R_gal`)** – The current radial position of the star.\n",
    "   - **Vertical Action (`Jz`)** – Describes oscillations above and below the Galactic plane.\n",
    "\n",
    "---\n",
    "\n",
    "### **Reasoning**\n",
    "- **Tidal streams share (`E`, `Lz`, `Jz`)** – Stars from the same stream have nearly identical orbital properties.  \n",
    "- **Energy (`E`) is conserved** – Helps separate streams from field stars.  \n",
    "- **Angular momentum (`Lz`, `Jz`) clusters streams** – Groups stars with common origins.  \n",
    "- **Galactocentric radius (`R_gal`) refines selection** – Ensures clustering aligns with stream positions.  \n"
   ]
  },
  {
   "cell_type": "code",
   "execution_count": 2,
   "metadata": {},
   "outputs": [],
   "source": [
    "rgb_data_path_stream = 'data/Allsky_Gaia_8910601_rv_extinction_corrected_filtered.fits'"
   ]
  },
  {
   "cell_type": "code",
   "execution_count": 3,
   "metadata": {},
   "outputs": [
    {
     "name": "stderr",
     "output_type": "stream",
     "text": [
      "Processing stars:   0%|          | 71/7438858 [00:00<8:41:38, 237.67star/s] "
     ]
    },
    {
     "name": "stdout",
     "output_type": "stream",
     "text": [
      "galpyWarning: Supplied SkyCoord does not contain (galcen_distance, z_sun, galcen_v_sun) and these were not explicitly set in the Orbit initialization using the keywords (ro, zo, vo, solarmotion); these are required for Orbit initialization; proceeding with default values\n"
     ]
    },
    {
     "name": "stderr",
     "output_type": "stream",
     "text": [
      "Processing stars: 100%|██████████| 7438858/7438858 [8:23:12<00:00, 246.38star/s]  \n"
     ]
    },
    {
     "name": "stdout",
     "output_type": "stream",
     "text": [
      "Galpy orbital parameters added. Updated FITS file saved as: data/Allsky_Gaia_8910601_rv_extinction_corrected_filtered_galpy.fits\n"
     ]
    }
   ],
   "source": [
    "add_galpy_orbital_parameters(rgb_data_path_stream)"
   ]
  }
 ],
 "metadata": {
  "kernelspec": {
   "display_name": "Python (GA_CW_Venv)",
   "language": "python",
   "name": "ga_cw_venv_2"
  },
  "language_info": {
   "codemirror_mode": {
    "name": "ipython",
    "version": 3
   },
   "file_extension": ".py",
   "mimetype": "text/x-python",
   "name": "python",
   "nbconvert_exporter": "python",
   "pygments_lexer": "ipython3",
   "version": "3.10.9"
  }
 },
 "nbformat": 4,
 "nbformat_minor": 2
}
